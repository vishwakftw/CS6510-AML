{
 "cells": [
  {
   "cell_type": "code",
   "execution_count": 1,
   "metadata": {},
   "outputs": [
    {
     "name": "stdout",
     "output_type": "stream",
     "text": [
      "24712 20\n"
     ]
    }
   ],
   "source": [
    "# Data Processing\n",
    "import numpy as np\n",
    "\n",
    "train_data = np.genfromtxt('trainData.csv', delimiter=',', dtype=str)\n",
    "m = train_data.shape[0] - 1\n",
    "d = train_data.shape[1]\n",
    "print(m, d)\n",
    "train_input, train_output = train_data[1:,0:d-1].tolist(), train_data[1:,d-1].tolist()"
   ]
  },
  {
   "cell_type": "markdown",
   "metadata": {},
   "source": [
    "The above step uses `numpy`'s `genfromtxt` function since there are no missing values. Below I randomly print to get the actual types of data like textual information and specific fields"
   ]
  },
  {
   "cell_type": "code",
   "execution_count": 2,
   "metadata": {},
   "outputs": [
    {
     "name": "stdout",
     "output_type": "stream",
     "text": [
      "[['28', '\"admin.\"', '\"single\"', '\"university.degree\"', '\"no\"', '\"yes\"', '\"no\"', '\"cellular\"', '\"aug\"', '\"mon\"', '1', '999', '0', '\"nonexistent\"', '-2.9', '92.201', '-31.4', '0.861', '5076.2'], '1']\n"
     ]
    }
   ],
   "source": [
    "print([train_input[0], train_output[0]])"
   ]
  },
  {
   "cell_type": "markdown",
   "metadata": {},
   "source": [
    "#### Preprocessing step 1: \n",
    "Remove quotes in textual information\n",
    "\n",
    "#### Preprocessing step 2:\n",
    "Convert numeric information to numbers as opposed to within single quotes. These fields are `0, 10, 11, 12, 14, ..., 19`."
   ]
  },
  {
   "cell_type": "code",
   "execution_count": 3,
   "metadata": {},
   "outputs": [
    {
     "name": "stdout",
     "output_type": "stream",
     "text": [
      "[28.0, 'admin.', 'single', 'university.degree', 'no', 'yes', 'no', 'cellular', 'aug', 'mon', 1.0, 999.0, 0.0, 'nonexistent', -2.9, 92.201, -31.4, 0.861, 5076.2]\n",
      "1.0\n"
     ]
    }
   ],
   "source": [
    "for i in range(0, m-1):\n",
    "    for j in range(0, d-1):\n",
    "        if train_input[i][j].find(\"\\\"\") != -1:\n",
    "            train_input[i][j] = train_input[i][j][1:-1] # removing double quotes in pairs\n",
    "        else:\n",
    "            train_input[i][j] = float(train_input[i][j])\n",
    "    train_output[i] = float(train_output[i])\n",
    "train_output = np.array(train_output).astype(float)\n",
    "\n",
    "print(train_input[0])\n",
    "print(train_output[0])"
   ]
  },
  {
   "cell_type": "markdown",
   "metadata": {},
   "source": [
    "Now that the preprocessing has been completed, it is time to separate the input and outputs and begin training. Clearly, we might have to go with Ensemble methods since the data has both textual and numeric information in it."
   ]
  },
  {
   "cell_type": "code",
   "execution_count": 4,
   "metadata": {},
   "outputs": [
    {
     "name": "stdout",
     "output_type": "stream",
     "text": [
      "[35.0, 'blue-collar', 'married', 'basic.9y', 'no', 'no', 'no', 'cellular', 'may', 'fri', 1.0, 999.0, 0.0, 'nonexistent', -1.8, 92.893, -46.2, 1.313, 5099.1]\n",
      "0.0\n"
     ]
    }
   ],
   "source": [
    "rand_index = np.random.randint(low=0, high=m)\n",
    "print(train_input[rand_index])\n",
    "print(train_output[rand_index])"
   ]
  },
  {
   "cell_type": "markdown",
   "metadata": {},
   "source": [
    "Now that I have the data through a simple level of preprocessing, I am going to convert text data into numeric values. For this I am first going to tokenize and then merge this into the actual training input.\n",
    "\n",
    "#### Preprocessing step 3:\n",
    "Convert the text data into numbers using `LabelEncoder`.\n",
    "\n",
    "#### Preprocessing step 4:\n",
    "Normalize the data."
   ]
  },
  {
   "cell_type": "code",
   "execution_count": 5,
   "metadata": {},
   "outputs": [
    {
     "name": "stdout",
     "output_type": "stream",
     "text": [
      "Size of training text data : (24712, 10)\n",
      "Size of training text data: (24712, 10)\n",
      "Text: ['admin.' 'single' 'university.degree' 'no' 'yes' 'no' 'cellular' 'aug'\n",
      " 'mon' 'nonexistent'] --> Data: [1 3 7 1 3 1 1 2 2 2]\n",
      "Text: ['blue-collar' 'single' 'basic.9y' 'no' 'yes' 'no' 'cellular' 'jul' 'tue'\n",
      " 'nonexistent'] --> Data: [2 3 3 1 3 1 1 4 4 2]\n"
     ]
    }
   ],
   "source": [
    "train_text_data = np.hstack((np.array(train_input)[:,1:10], np.array(train_input)[:,13:14]))\n",
    "print('Size of training text data : {0}'.format(train_text_data.shape))\n",
    "\n",
    "# Converting the textual data into one vector per training input\n",
    "train_text_vectors = []\n",
    "\n",
    "from sklearn.preprocessing import LabelEncoder, normalize\n",
    "\n",
    "for j in range(0, train_text_data.shape[1]):\n",
    "    lbl_enc = LabelEncoder()\n",
    "    train_text_vectors.append(lbl_enc.fit_transform(train_text_data[:,j]))\n",
    "train_text_vectors = np.array(train_text_vectors).T\n",
    "\n",
    "print('Size of training text data: {0}'.format(train_text_vectors.shape))\n",
    "print('Text: {0} --> Data: {1}'.format(train_text_data[0], train_text_vectors[0]))\n",
    "print('Text: {0} --> Data: {1}'.format(train_text_data[10], train_text_vectors[10]))"
   ]
  },
  {
   "cell_type": "code",
   "execution_count": 6,
   "metadata": {},
   "outputs": [
    {
     "name": "stdout",
     "output_type": "stream",
     "text": [
      "(24712, 19)\n",
      "Vector = [  5.41107795e-03   1.93252784e-04   5.79758352e-04   1.35276949e-03\n",
      "   1.93252784e-04   5.79758352e-04   1.93252784e-04   1.93252784e-04\n",
      "   3.86505568e-04   3.86505568e-04   1.93252784e-04   1.93059531e-01\n",
      "   0.00000000e+00   3.86505568e-04  -5.60433073e-04   1.78180999e-02\n",
      "  -6.06813741e-03   1.66390647e-04   9.80989782e-01]: \n",
      "Norm = 0.9999999999999999\n"
     ]
    }
   ],
   "source": [
    "train_input = np.hstack((np.array(train_input)[:,0:1], \n",
    "                         train_text_vectors[:,0:train_text_vectors.shape[1] - 1], \n",
    "                         np.array(train_input)[:,10:13],\n",
    "                         train_text_vectors[:,train_text_vectors.shape[1] - 1].reshape(-1, 1),\n",
    "                         np.array(train_input)[:,14:]\n",
    "                        )).astype(float)\n",
    "train_input = normalize(train_input)\n",
    "\n",
    "print(train_input.shape)\n",
    "print('Vector = {0}: \\nNorm = {1}'.format(train_input[0], np.linalg.norm(train_input[0])))"
   ]
  },
  {
   "cell_type": "markdown",
   "metadata": {},
   "source": [
    "Now the preprocessing steps are completed. I will try my first attempt of classification using a support vector machine with Gaussian Kernel.\n",
    "\n",
    "### Attempt 1: SVM with Gaussian Kernel"
   ]
  },
  {
   "cell_type": "code",
   "execution_count": 7,
   "metadata": {},
   "outputs": [
    {
     "name": "stdout",
     "output_type": "stream",
     "text": [
      "Accuracy on Gaussian Kernelized SVM: 88.73421819359017%\n",
      "{0.0}\n",
      "{0.0, 1.0}\n",
      "[[21928     0]\n",
      " [ 2784     0]]\n"
     ]
    }
   ],
   "source": [
    "from sklearn.svm import SVC\n",
    "from sklearn.metrics import confusion_matrix\n",
    "\n",
    "g_svm = SVC(kernel='rbf', cache_size=2000)\n",
    "g_svm.fit(train_input, train_output)\n",
    "\n",
    "print(\"Accuracy on Gaussian Kernelized SVM: {0}%\".format(100*g_svm.score(train_input, train_output)))\n",
    "train_predict = g_svm.predict(train_input)\n",
    "print(set(train_predict))\n",
    "print(set(train_output))\n",
    "print(confusion_matrix(train_output, train_predict))"
   ]
  },
  {
   "cell_type": "markdown",
   "metadata": {},
   "source": [
    "Now it is pretty obvious from the confusion matrix that this is a class imbalance dataset. "
   ]
  }
 ],
 "metadata": {
  "kernelspec": {
   "display_name": "Python 3",
   "language": "python",
   "name": "python3"
  },
  "language_info": {
   "codemirror_mode": {
    "name": "ipython",
    "version": 3
   },
   "file_extension": ".py",
   "mimetype": "text/x-python",
   "name": "python",
   "nbconvert_exporter": "python",
   "pygments_lexer": "ipython3",
   "version": "3.5.2"
  }
 },
 "nbformat": 4,
 "nbformat_minor": 2
}
