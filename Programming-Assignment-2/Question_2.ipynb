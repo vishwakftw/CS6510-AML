{
 "cells": [
  {
   "cell_type": "markdown",
   "metadata": {},
   "source": [
    "### Question 2: Ridge Regression and LASSO\n",
    "+ Generate dataset using `numpy`"
   ]
  },
  {
   "cell_type": "code",
   "execution_count": 1,
   "metadata": {
    "collapsed": true
   },
   "outputs": [],
   "source": [
    "import numpy as np\n",
    "import RidgeRegression"
   ]
  },
  {
   "cell_type": "code",
   "execution_count": 6,
   "metadata": {},
   "outputs": [
    {
     "name": "stdout",
     "output_type": "stream",
     "text": [
      "(75,)\n",
      "(150, 75)\n",
      "(150,)\n",
      "(150,)\n"
     ]
    }
   ],
   "source": [
    "m = 150\n",
    "d = 75\n",
    "X = np.random.rand(m, d)\n",
    "theta = np.zeros(d)\n",
    "indices_neg, indices_pos = np.split(np.random.choice(10, 10, replace=False), 2)\n",
    "theta[indices_neg] = -10\n",
    "theta[indices_pos] = 10\n",
    "\n",
    "noise = np.random.normal(loc=0, scale=0.1, size=(m,))\n",
    "y = np.dot(X, theta) + noise\n",
    "\n",
    "print(theta.shape)\n",
    "print(X.shape)\n",
    "print(noise.shape)\n",
    "print(y.shape)"
   ]
  },
  {
   "cell_type": "code",
   "execution_count": null,
   "metadata": {
    "collapsed": true
   },
   "outputs": [],
   "source": [
    "train_X, valid_X, test_X = X[:80], X[80:100], X[100:]\n",
    "train_y, valid_y, test_y = y[:80], y[80:100], y[100:]"
   ]
  }
 ],
 "metadata": {
  "kernelspec": {
   "display_name": "Python 3",
   "language": "python",
   "name": "python3"
  },
  "language_info": {
   "codemirror_mode": {
    "name": "ipython",
    "version": 3
   },
   "file_extension": ".py",
   "mimetype": "text/x-python",
   "name": "python",
   "nbconvert_exporter": "python",
   "pygments_lexer": "ipython3",
   "version": "3.5.2"
  }
 },
 "nbformat": 4,
 "nbformat_minor": 2
}
